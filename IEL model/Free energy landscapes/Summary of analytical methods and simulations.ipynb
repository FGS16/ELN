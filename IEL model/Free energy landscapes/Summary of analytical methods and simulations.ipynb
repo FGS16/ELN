{
 "cells": [
  {
   "cell_type": "markdown",
   "metadata": {},
   "source": [
    "Two different approaches are used to determine the effective rate constants (second-order rate constants from the model). The model which I am developing is based on the intuitive energy landscape described in Srinivas et al. (2013). In this model a number of states are defined to describe the free energy of the system at a particular step in the strand displacement reaction. \n",
    "\n",
    "I am simulating the strand displacement reaction using a Gillespie approach. In this approach we consider each state in isolation. The rate of transitioning to the neighbouring states is determined by the relative energy of the states, as described in Srinivas et al. (2013). For unimolecular transitions, with adjacent states i and j, where the free energy of i is greater than the free energy of j: \n",
    "\n",
    "$$k_{ij} = k_{uni}$$\n",
    "\n",
    "$$k_{ji} = k_{uni}\\exp^{(\\Delta G_{box}(i) - \\Delta G_{box}(j))/RT}$$\n",
    "\n",
    "The probability of transitioning forward relative to backwards is determined the relative rate of transitioning to these states. We set a reflective boundary at state A (i.e. when the invader is unbound) and an absorbing boundary at state F (i.e. when the incumbent is released). As such, we can determine the average first passage time (the time taken to transition from state A to state F). \n",
    "\n",
    "\n"
   ]
  },
  {
   "cell_type": "markdown",
   "metadata": {},
   "source": [
    "We make use of a deterministic approach to confirm the results of the stochastic simulations. We apply the iterative analytical format which is derived in the supplementary material of Irmisch et al. (2020) (i.e. the Seidel paper). The formula is based on calculating the probability of being in a particular state. The sum of these probabilities is used to determine the first passage time.\n",
    "   \n"
   ]
  },
  {
   "cell_type": "markdown",
   "metadata": {},
   "source": [
    "I first alter the IEL model described in Srinivas et al. for an RNA invader displacing a DNA/DNA substrate-incumbent complex. In order to do this, I apply a penalty of 1 kcal/mol, for the dissociation of RNA from DNA (as this is thought to be a stronger interaction than DNA/DNA). In the Srinivas et al. (2013) free energy landscape this is equivalent to a greater increase in the free energy for the backward branch migration reaction (transitioning from a low energy state and the high energy transient intermediate). The rate of binding of RNA to DNA, is unaltered in this model. This leads to an overall downhill slope in the free energy landscape. \n",
    "\n",
    "I next adapt this model for a DNA invader displacing an RNA/DNA incumbent-substrate complex. In this case, we apply a penalty of 1kcal/mol to the forward reaction (i.e. RNA dissociating from DNA). This leads to an equivalent energetically uphill branch migration process. \n",
    "\n",
    "This allows us to access a number of different factors which could influence the kinetics of the reaction. I initially investigated the effect of toehold length and branch migration length for these two reactions. "
   ]
  },
  {
   "cell_type": "markdown",
   "metadata": {},
   "source": [
    "In order to optimise the kinetics of both reactions (i.e. DNA displacing RNA and RNA displacing DNA), I explore the effect of introducing mismatches into these systems. There are two types of mismatches which can be introduced into the system. Invader-substrate mismatches, in which an invader displaces a perfectly complementary incumbent strand, has been shown to slow down the rate of the reaction (Machinek et al. (2014); Irmisch et al. (2020)). By contrast, incumbent-substrate mismatches, in which a complementary invader repairs an existing mismatch, has been shown to increase the rate of reaction (Haley et al. (2018); Irmisch et al. (2020)). \n",
    "\n",
    "I introduce invader-substrate mismatches into my system, by increasing the rate of the backward branch migration reaction from the low energy intermediate to the high energy intermediate (i.e. dissociation of the mismatch), in line with the approach adopted by Irmisch et al. (2020). \n",
    "\n",
    "Introduction of incumbent-substrate mismatches into my system is a bit more complex. This refers to an existing mismatch within the reactant complex, and as such there is potential for fraying at the basepairs close to the mismatch. To achieve fraying I change the rate of the forward and backward reactions to be the same as progression through the toehold (i.e. there is no high energy intermediate). "
   ]
  },
  {
   "cell_type": "markdown",
   "metadata": {},
   "source": [
    "I next consider the potetnial for multiple mismatches within the branch migration domain. For 2 mismatches which are widely separated, this is simply encoded as two mismatches (i.e. the rate for dissociation of the mismatch is faster at both positions). For 2 mismatches which are closely located, we introduce bubble formation (such that the intermediate base pairs, do not pair up). For close mismatches this is more thermodynamically favourable, than a 'closed' system with base pairing of the bases between these mismatches.\n",
    "\n",
    "I am not 100% sure how to encode the bubble, so I will ask Tom at the next meeting. The formation of bubble is associated with a penalty which is in the order of dGmm (the penalty for the introduction of a single mismatch) (Irmisch et al. (2020)). As such, I introduce a penalty to the backward reaction from the low energy intermediate to the high energy intermediate (i.e. the dissociation of the 1st mismatch). For the base-pairs between the two mismatches I apply a high rate which is equal for both the forward and backward reactions. For the 2nd mismatch, the rate of forward reaction (i.e. the association of the mismatch) is slower according to: \n",
    "\n",
    "$$d(\\Delta G_{BP} + \\Delta G_{L})$$\n",
    "\n",
    "where d is the difference in the positions of the two mismatches, $\\Delta G_{BP}$ is the free energy change associated with base pairing and $\\Delta G_{L}$ is the entropic loop penalty for confining the ssDNA strands. "
   ]
  },
  {
   "cell_type": "code",
   "execution_count": null,
   "metadata": {},
   "outputs": [],
   "source": []
  }
 ],
 "metadata": {
  "kernelspec": {
   "display_name": "Python 3",
   "language": "python",
   "name": "python3"
  },
  "language_info": {
   "codemirror_mode": {
    "name": "ipython",
    "version": 3
   },
   "file_extension": ".py",
   "mimetype": "text/x-python",
   "name": "python",
   "nbconvert_exporter": "python",
   "pygments_lexer": "ipython3",
   "version": "3.7.4"
  }
 },
 "nbformat": 4,
 "nbformat_minor": 2
}
