{
 "cells": [
  {
   "cell_type": "code",
   "execution_count": 17,
   "metadata": {},
   "outputs": [],
   "source": [
    "#import python packages\n",
    "import numpy as np \n",
    "import pandas as pd \n",
    "import seaborn as sns \n",
    "import matplotlib.pyplot as plt \n",
    "import scipy.optimize as opt"
   ]
  },
  {
   "cell_type": "code",
   "execution_count": 18,
   "metadata": {},
   "outputs": [],
   "source": [
    "#define functions\n",
    "def IEL_model(mm_pos, toehold_range, b, R, temp, inv_conc, dGbp, dGmm, dGbm, dGp, dGassoc, k_bp):\n",
    "    \n",
    "    log_k_eff = np.empty(len(mm_pos))\n",
    "    k_eff = np.empty(len(mm_pos))\n",
    "    first_pass_time = np.empty(len(mm_pos))\n",
    "    prob_unbound = np.empty(len(mm_pos))\n",
    "\n",
    "    for ind, m in enumerate(mm_pos):\n",
    "        \n",
    "        g = toehold_range[ind]\n",
    "        \n",
    "        #define forward and reverse transition rates\n",
    "        k_AA = 0;\n",
    "        k_AB1 = k_bp * np.exp(-dGassoc) * (inv_conc)\n",
    "        k_B1A = k_bp * np.exp(dGbp)\n",
    "        k_BC1ij = k_bp;\n",
    "        k_BC1ji = k_bp * np.exp(dGbp);\n",
    "        k_C1f = k_bp * np.exp(-(dGbm + dGp))\n",
    "        k_Cf = k_bp * np.exp(-dGbm)\n",
    "        k_Cr = k_bp * np.exp(-dGbm);\n",
    "        k_Crm = k_bp * np.exp((dGmm[ind]-dGbm))\n",
    "        k_CD = k_bp * np.exp(-dGbm)\n",
    "        k_DC = 0 \n",
    "        k_DD = 1\n",
    "    \n",
    "        #create arrays of forward and reverse transition rates for mismatch\n",
    "        #systems\n",
    "        Kf = np.array([k_DD, k_CD, k_C1f, k_BC1ij, k_AB1])\n",
    "        Kf = np.insert(Kf, 2, np.repeat(k_Cf, b-2))\n",
    "        Kf = np.insert(Kf, -2, np.repeat(k_BC1ij, [g-2]))\n",
    "        \n",
    "        Kb = np.array([k_DC, k_Cr, k_BC1ji, k_B1A, k_AA])\n",
    "        Kb = np.insert(Kb, 1, np.repeat(k_Cr, b-2))\n",
    "        Kb = np.insert(Kb, -3, np.repeat(k_BC1ji, g-2))\n",
    "        Kb[b-m] = k_Crm\n",
    "    \n",
    "        #define spontaneous incumbent dissociation rates\n",
    "        Koff = np.array([0]);\n",
    "        for n in range(1, b):\n",
    "            Koff = np.append(Koff, [k_bp*np.exp(-(n*(-dGbp)))]);\n",
    "        Koff = np.append(Koff, np.repeat(0,  g+1))\n",
    "    \n",
    "        Pn_jN_1 = np.empty(len(Kf))\n",
    "        jn_jN_1 = np.empty(len(Kf))\n",
    "        Pn_jN_1[0] = 0;\n",
    "        jn_jN_1[0] = 1;\n",
    "        \n",
    "        #calculate flux between each state for mismatch system\n",
    "        for Pn in range(1, len(Kf)):\n",
    "            Pn_jN_1[Pn]  = 1/Kf[Pn] * jn_jN_1 [Pn-1] + (Kb[Pn-1]/Kf[Pn])*Pn_jN_1[Pn-1];\n",
    "            jn_jN_1[Pn] = jn_jN_1[Pn-1] + Koff[Pn] * Pn_jN_1[Pn];\n",
    "    \n",
    "        first_pass_time [ind] = (1/jn_jN_1[-2])*sum(Pn_jN_1) #first passage time for mismatch system\n",
    "        k_eff [ind] = 1/(first_pass_time [ind]*(inv_conc)); #effective rate constant for mismatch system\n",
    "        prob_unbound[ind] = Pn_jN_1[-1]/sum(Pn_jN_1) #probability of being in unbound state for mismatch system\n",
    "        log_k_eff[ind] = np.log10(k_eff[ind])\n",
    "    \n",
    "    return log_k_eff\n",
    "\n",
    "def fit_IEL_model(params, k_eff_exp, data_error):\n",
    "    dGbm = params[0]\n",
    "    dGp = params[1]\n",
    "    k_bp = 10**params[2]\n",
    "    \n",
    "    log_k_eff = IEL_model(mm_pos, toehold_range, b, R, temp, inv_conc, dGbp, dGmm, dGbm, dGp, dGassoc, k_bp)\n",
    "    \n",
    "    return (log_k_eff - k_eff_exp)/data_error"
   ]
  },
  {
   "cell_type": "code",
   "execution_count": 19,
   "metadata": {},
   "outputs": [],
   "source": [
    "#define experimental parameters\n",
    "temp = 298.15 #temperature in K\n",
    "R = 1.987/1000 #universal gas constant in kcal/K/mol \n",
    "inv_conc = 6*10**-8 #initial concentration of unbound invader\n",
    "mm_pos = [0, 0, 0, 0, 18, 11, 1] #range of mismatch positions\n",
    "toehold_range = [2, 3, 4, 6, 6, 6, 6] #range of toehold lengths\n",
    "b = 20 #branch migration domain length \n",
    "\n",
    "dGmm = [0, 0, 0, 0, 3.23*(1/(R*temp)), 5.43*(1/(R*temp)), 6.76*(1/(R*temp))]#free energy penalty due to mismatch in kBT\n",
    "dGbp = -2.57*(1/(R*temp)) #free energy gain due to base pair formation in kBT\n",
    "dGassoc = 7.1*(1/(R*temp)) #free energy of RNA/RNA association in kBT"
   ]
  },
  {
   "cell_type": "code",
   "execution_count": 20,
   "metadata": {},
   "outputs": [],
   "source": [
    "#import and save experimentally-derived rate constant\n",
    "k_eff_exp = np.array([4.723, 4.525, 5.161, 7.326, 7.897, 4.443, 3.958])\n",
    "data_error = np.array([0.0121, 0.00255, 0.00108, 0.101, 0.166, 0.00254, 0.00561])"
   ]
  },
  {
   "cell_type": "code",
   "execution_count": 21,
   "metadata": {},
   "outputs": [
    {
     "name": "stdout",
     "output_type": "stream",
     "text": [
      " active_mask: array([0, 0, 0])\n",
      "        cost: 19823.77383028585\n",
      "         fun: array([-149.901522  ,   44.95959503,  -12.93484047,  -21.44596048,\n",
      "        -16.49271694,   63.63795052, -101.02810698])\n",
      "        grad: array([-6.03441462e-02, -1.25612584e-01, -2.05818797e-05])\n",
      "         jac: array([[ 5.16263197e-01, -3.56906712e+01,  8.26446281e+01],\n",
      "       [ 1.71770946e+00, -1.18917932e+02,  3.92156863e+02],\n",
      "       [ 1.52199647e-01, -1.18141301e+01,  9.25925926e+02],\n",
      "       [-2.02613432e-04, -2.25781875e-04,  9.90099008e+00],\n",
      "       [-2.03479390e-03, -4.64077570e-03,  6.02409640e+00],\n",
      "       [-1.18925472e+02, -1.23266482e+02,  3.93700785e+02],\n",
      "       [-7.49316710e+01, -7.60958686e+01,  1.78253119e+02]])\n",
      "     message: '`ftol` termination condition is satisfied.'\n",
      "        nfev: 12\n",
      "        njev: 12\n",
      "  optimality: 1.0527827558101086\n",
      "      status: 2\n",
      "     success: True\n",
      "           x: array([ 9.14073421,  6.61881143, 10.37056193])\n"
     ]
    }
   ],
   "source": [
    "params = [7.4, 3.6, np.log10(5.4*10**7)] #estimates of parameters to be fit (in kBT)\n",
    "opt_params = opt.least_squares(fit_IEL_model, params, bounds = ([0, 0, 0], [15., 15., 15.]), args=(k_eff_exp, data_error))\n",
    "print(opt_params)"
   ]
  },
  {
   "cell_type": "code",
   "execution_count": 22,
   "metadata": {},
   "outputs": [
    {
     "name": "stdout",
     "output_type": "stream",
     "text": [
      "[2.90919158 4.63964697 5.14703037 5.15995799 5.15920899 4.60464039\n",
      " 3.39123232]\n"
     ]
    },
    {
     "data": {
      "text/plain": [
       "Text(0, 0.5, 'log(keff)')"
      ]
     },
     "execution_count": 22,
     "metadata": {},
     "output_type": "execute_result"
    },
    {
     "data": {
      "image/png": "[encoded data removed]",
      "text/plain": [
       "<Figure size 432x288 with 1 Axes>"
      ]
     },
     "metadata": {
      "needs_background": "light"
     },
     "output_type": "display_data"
    }
   ],
   "source": [
    "#plotting the fits \n",
    "dGbm = opt_params.x[0]\n",
    "dGp = opt_params.x[1]\n",
    "k_bp = 10**opt_params.x[2]\n",
    "\n",
    "log_k_eff = IEL_model(mm_pos, toehold_range, b, R, temp, inv_conc, dGbp, dGmm, dGbm, dGp, dGassoc, k_bp)\n",
    "print(log_k_eff)\n",
    "\n",
    "plt.plot(log_k_eff, 'bo')\n",
    "data_xticks = ['T2, MM0','T3, MM0 ','T4, MM0','T6, MM0', 'T6, MM3', 'T6, MM10', 'T6, MM20']\n",
    "plt.xticks(range(7), data_xticks, rotation = 90)\n",
    "plt.plot(k_eff_exp, 'ro')\n",
    "plt.ylabel('log(keff)')"
   ]
  },
  {
   "cell_type": "code",
   "execution_count": 25,
   "metadata": {},
   "outputs": [
    {
     "name": "stdout",
     "output_type": "stream",
     "text": [
      "sd =  [1.07494141 0.89929767 0.11232993]\n",
      "lower 95% confidence interval =  [ 7.03384904  4.856188   10.15039527]\n",
      "upper 95% confidence interval =  [11.24761937  8.38143487 10.59072858]\n"
     ]
    }
   ],
   "source": [
    "#parameter uncertainty\n",
    "n_obs = len(k_eff_exp) #define the number of observations\n",
    "n_params = len(params) #define the number of parameters\n",
    "df = n_obs - n_params #define the number of degrees of freedom\n",
    "wrss = np.sum(opt_params.fun**2) # weighted residual sum-of-squares\n",
    "\n",
    "hess = np.dot(opt_params.jac.T, opt_params.jac)\n",
    "cov = np.linalg.inv(hess)*wrss/df #define the covariance matrix\n",
    "\n",
    "sd = np.sqrt(np.diag(cov)) #define the standard deviation\n",
    "CI_95_l = opt_params.x-1.96*sd # lower bounds of 95% parameter confidence intervals\n",
    "CI_95_u = opt_params.x+1.96*sd # upper bounds of 95% parameter confidence intervals\n",
    "\n",
    "print('sd = ', sd)\n",
    "print('lower 95% confidence interval = ', CI_95_l)\n",
    "print('upper 95% confidence interval = ', CI_95_u)"
   ]
  },
  {
   "cell_type": "code",
   "execution_count": null,
   "metadata": {},
   "outputs": [],
   "source": []
  }
 ],
 "metadata": {
  "kernelspec": {
   "display_name": "Python 3",
   "language": "python",
   "name": "python3"
  },
  "language_info": {
   "codemirror_mode": {
    "name": "ipython",
    "version": 3
   },
   "file_extension": ".py",
   "mimetype": "text/x-python",
   "name": "python",
   "nbconvert_exporter": "python",
   "pygments_lexer": "ipython3",
   "version": "3.7.4"
  }
 },
 "nbformat": 4,
 "nbformat_minor": 2
}
